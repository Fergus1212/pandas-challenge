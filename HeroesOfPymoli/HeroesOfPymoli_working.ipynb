{
 "cells": [
  {
   "cell_type": "markdown",
   "metadata": {},
   "source": [
    "### Note\n",
    "* Instructions have been included for each segment. You do not have to follow them exactly, but they are included to help you think through the steps."
   ]
  },
  {
   "cell_type": "code",
   "execution_count": 1,
   "metadata": {
    "scrolled": true
   },
   "outputs": [],
   "source": [
    "# Dependencies and Setup\n",
    "import pandas as pd\n",
    "\n",
    "# File to Load (Remember to Change These)\n",
    "file_to_load = \"Resources/purchase_data.csv\"\n",
    "\n",
    "# Read Purchasing File and store into Pandas data frame\n",
    "purchase_data = pd.read_csv(file_to_load)\n",
    "pd_df=[]\n",
    "pd_df=purchase_data\n",
    "#pd_df.dtypes"
   ]
  },
  {
   "cell_type": "markdown",
   "metadata": {},
   "source": [
    "## Player Count"
   ]
  },
  {
   "cell_type": "markdown",
   "metadata": {},
   "source": [
    "* Display the total number of players\n"
   ]
  },
  {
   "cell_type": "code",
   "execution_count": 2,
   "metadata": {},
   "outputs": [
    {
     "data": {
      "text/plain": [
       "576"
      ]
     },
     "execution_count": 2,
     "metadata": {},
     "output_type": "execute_result"
    }
   ],
   "source": [
    "pd_count = pd_df['SN'].nunique()\n",
    "pd_count"
   ]
  },
  {
   "cell_type": "markdown",
   "metadata": {},
   "source": [
    "## Purchasing Analysis (Total)"
   ]
  },
  {
   "cell_type": "markdown",
   "metadata": {},
   "source": [
    "* Run basic calculations to obtain number of unique items, average price, etc.\n",
    "\n",
    "\n",
    "* Create a summary data frame to hold the results\n",
    "\n",
    "\n",
    "* Optional: give the displayed data cleaner formatting\n",
    "\n",
    "\n",
    "* Display the summary data frame\n"
   ]
  },
  {
   "cell_type": "code",
   "execution_count": 3,
   "metadata": {
    "scrolled": true
   },
   "outputs": [
    {
     "data": {
      "text/html": [
       "<style  type=\"text/css\" >\n",
       "</style><table id=\"T_dfb9e570_5c00_11ea_b527_00d86178e0cb\" ><thead>    <tr>        <th class=\"blank level0\" ></th>        <th class=\"col_heading level0 col0\" >Number of Unique Items</th>        <th class=\"col_heading level0 col1\" >Average Price</th>        <th class=\"col_heading level0 col2\" >Number of Purchases</th>        <th class=\"col_heading level0 col3\" >Total Revenue</th>    </tr></thead><tbody>\n",
       "                <tr>\n",
       "                        <th id=\"T_dfb9e570_5c00_11ea_b527_00d86178e0cblevel0_row0\" class=\"row_heading level0 row0\" >0</th>\n",
       "                        <td id=\"T_dfb9e570_5c00_11ea_b527_00d86178e0cbrow0_col0\" class=\"data row0 col0\" >183</td>\n",
       "                        <td id=\"T_dfb9e570_5c00_11ea_b527_00d86178e0cbrow0_col1\" class=\"data row0 col1\" >$3.05</td>\n",
       "                        <td id=\"T_dfb9e570_5c00_11ea_b527_00d86178e0cbrow0_col2\" class=\"data row0 col2\" >780</td>\n",
       "                        <td id=\"T_dfb9e570_5c00_11ea_b527_00d86178e0cbrow0_col3\" class=\"data row0 col3\" >$2,379.77</td>\n",
       "            </tr>\n",
       "    </tbody></table>"
      ],
      "text/plain": [
       "<pandas.io.formats.style.Styler at 0x2250f2a4648>"
      ]
     },
     "execution_count": 3,
     "metadata": {},
     "output_type": "execute_result"
    }
   ],
   "source": [
    "summary_df = []\n",
    "data = {'Number of Unique Items':[pd_df['Item ID'].nunique()], \n",
    "        'Average Price': [pd_df['Price'].mean()],\n",
    "        'Number of Purchases' : [pd_df['Purchase ID'].count()],\n",
    "        'Total Revenue':[pd_df['Price'].sum()]} \n",
    "summary_df = pd.DataFrame.from_dict(data)\n",
    "summary_df =summary_df.style.format({'Total Revenue': '${:,.2f}','Average Price': '${:,.2f}'})\n",
    "summary_df"
   ]
  },
  {
   "cell_type": "markdown",
   "metadata": {},
   "source": [
    "## Gender Demographics"
   ]
  },
  {
   "cell_type": "markdown",
   "metadata": {},
   "source": [
    "* Percentage and Count of Male Players\n",
    "\n",
    "\n",
    "* Percentage and Count of Female Players\n",
    "\n",
    "\n",
    "* Percentage and Count of Other / Non-Disclosed\n",
    "\n",
    "\n"
   ]
  },
  {
   "cell_type": "code",
   "execution_count": 4,
   "metadata": {},
   "outputs": [
    {
     "data": {
      "text/html": [
       "<style  type=\"text/css\" >\n",
       "</style><table id=\"T_e05bc96c_5c00_11ea_8ceb_00d86178e0cb\" ><thead>    <tr>        <th class=\"blank level0\" ></th>        <th class=\"col_heading level0 col0\" >Total Count</th>        <th class=\"col_heading level0 col1\" >Percentage of Players</th>    </tr>    <tr>        <th class=\"index_name level0\" >Gender</th>        <th class=\"blank\" ></th>        <th class=\"blank\" ></th>    </tr></thead><tbody>\n",
       "                <tr>\n",
       "                        <th id=\"T_e05bc96c_5c00_11ea_8ceb_00d86178e0cblevel0_row0\" class=\"row_heading level0 row0\" >Female</th>\n",
       "                        <td id=\"T_e05bc96c_5c00_11ea_8ceb_00d86178e0cbrow0_col0\" class=\"data row0 col0\" >113</td>\n",
       "                        <td id=\"T_e05bc96c_5c00_11ea_8ceb_00d86178e0cbrow0_col1\" class=\"data row0 col1\" >14.49%</td>\n",
       "            </tr>\n",
       "            <tr>\n",
       "                        <th id=\"T_e05bc96c_5c00_11ea_8ceb_00d86178e0cblevel0_row1\" class=\"row_heading level0 row1\" >Male</th>\n",
       "                        <td id=\"T_e05bc96c_5c00_11ea_8ceb_00d86178e0cbrow1_col0\" class=\"data row1 col0\" >652</td>\n",
       "                        <td id=\"T_e05bc96c_5c00_11ea_8ceb_00d86178e0cbrow1_col1\" class=\"data row1 col1\" >83.59%</td>\n",
       "            </tr>\n",
       "            <tr>\n",
       "                        <th id=\"T_e05bc96c_5c00_11ea_8ceb_00d86178e0cblevel0_row2\" class=\"row_heading level0 row2\" >Other / Non-Disclosed</th>\n",
       "                        <td id=\"T_e05bc96c_5c00_11ea_8ceb_00d86178e0cbrow2_col0\" class=\"data row2 col0\" >15</td>\n",
       "                        <td id=\"T_e05bc96c_5c00_11ea_8ceb_00d86178e0cbrow2_col1\" class=\"data row2 col1\" >1.92%</td>\n",
       "            </tr>\n",
       "    </tbody></table>"
      ],
      "text/plain": [
       "<pandas.io.formats.style.Styler at 0x2251273f888>"
      ]
     },
     "execution_count": 4,
     "metadata": {},
     "output_type": "execute_result"
    }
   ],
   "source": [
    "demographics = pd_df.groupby('Gender', as_index=True)['Purchase ID'].count()\n",
    "demographics_df= pd.DataFrame(demographics)\n",
    "\n",
    "demographics_df=demographics_df.rename(columns ={'Purchase ID':'Total Count'})\n",
    "tot_player = demographics_df['Total Count'].sum()\n",
    "demographics_df['Percentage of Players'] = demographics_df['Total Count']/tot_player\n",
    "demographics_df=demographics_df.style.format({'Percentage of Players': '{:.2%}'})\n",
    "demographics_df"
   ]
  },
  {
   "cell_type": "markdown",
   "metadata": {},
   "source": [
    "\n",
    "## Purchasing Analysis (Gender)"
   ]
  },
  {
   "cell_type": "markdown",
   "metadata": {},
   "source": [
    "* Run basic calculations to obtain purchase count, avg. purchase price, avg. purchase total per person etc. by gender\n",
    "\n",
    "\n",
    "\n",
    "\n",
    "* Create a summary data frame to hold the results\n",
    "\n",
    "\n",
    "* Optional: give the displayed data cleaner formatting\n",
    "\n",
    "\n",
    "* Display the summary data frame"
   ]
  },
  {
   "cell_type": "code",
   "execution_count": 5,
   "metadata": {},
   "outputs": [
    {
     "data": {
      "text/html": [
       "<div>\n",
       "<style scoped>\n",
       "    .dataframe tbody tr th:only-of-type {\n",
       "        vertical-align: middle;\n",
       "    }\n",
       "\n",
       "    .dataframe tbody tr th {\n",
       "        vertical-align: top;\n",
       "    }\n",
       "\n",
       "    .dataframe thead th {\n",
       "        text-align: right;\n",
       "    }\n",
       "</style>\n",
       "<table border=\"1\" class=\"dataframe\">\n",
       "  <thead>\n",
       "    <tr style=\"text-align: right;\">\n",
       "      <th></th>\n",
       "      <th>Total Count</th>\n",
       "      <th>Average Price</th>\n",
       "      <th>Total Purchase Value</th>\n",
       "      <th>Avg Total Purchase per Person</th>\n",
       "    </tr>\n",
       "    <tr>\n",
       "      <th>Gender</th>\n",
       "      <th></th>\n",
       "      <th></th>\n",
       "      <th></th>\n",
       "      <th></th>\n",
       "    </tr>\n",
       "  </thead>\n",
       "  <tbody>\n",
       "    <tr>\n",
       "      <td>Female</td>\n",
       "      <td>113</td>\n",
       "      <td>3.203009</td>\n",
       "      <td>361.94</td>\n",
       "      <td>4.468395</td>\n",
       "    </tr>\n",
       "    <tr>\n",
       "      <td>Male</td>\n",
       "      <td>652</td>\n",
       "      <td>3.017853</td>\n",
       "      <td>1967.64</td>\n",
       "      <td>4.065372</td>\n",
       "    </tr>\n",
       "    <tr>\n",
       "      <td>Other / Non-Disclosed</td>\n",
       "      <td>15</td>\n",
       "      <td>3.346000</td>\n",
       "      <td>50.19</td>\n",
       "      <td>4.562727</td>\n",
       "    </tr>\n",
       "  </tbody>\n",
       "</table>\n",
       "</div>"
      ],
      "text/plain": [
       "                       Total Count  Average Price  Total Purchase Value  \\\n",
       "Gender                                                                    \n",
       "Female                         113       3.203009                361.94   \n",
       "Male                           652       3.017853               1967.64   \n",
       "Other / Non-Disclosed           15       3.346000                 50.19   \n",
       "\n",
       "                       Avg Total Purchase per Person  \n",
       "Gender                                                \n",
       "Female                                      4.468395  \n",
       "Male                                        4.065372  \n",
       "Other / Non-Disclosed                       4.562727  "
      ]
     },
     "execution_count": 5,
     "metadata": {},
     "output_type": "execute_result"
    }
   ],
   "source": [
    "grpby_gender = pd_df.groupby('Gender')\n",
    "Purchase_Count = grpby_gender['Purchase ID'].count()\n",
    "Average_Price = grpby_gender['Price'].mean()\n",
    "tot_purchase = grpby_gender['Price'].sum()\n",
    "count_gender = grpby_gender.nunique()[\"SN\"]\n",
    "Average_Price_Per_Person= tot_purchase/count_gender\n",
    "purchasing_analysis_df = pd.DataFrame(Purchase_Count)\n",
    "purchasing_analysis_df=purchasing_analysis_df.rename(columns ={'Purchase ID':'Total Count'})\n",
    "purchasing_analysis_df[\"Average Price\"] = Average_Price\n",
    "purchasing_analysis_df[\"Total Purchase Value\"] = tot_purchase\n",
    "purchasing_analysis_df[\"Avg Total Purchase per Person\"] = Average_Price_Per_Person\n",
    "purchasing_analysis_df"
   ]
  },
  {
   "cell_type": "markdown",
   "metadata": {},
   "source": [
    "## Age Demographics"
   ]
  },
  {
   "cell_type": "markdown",
   "metadata": {},
   "source": [
    "* Establish bins for ages\n",
    "\n",
    "\n",
    "* Categorize the existing players using the age bins. Hint: use pd.cut()\n",
    "\n",
    "\n",
    "* Calculate the numbers and percentages by age group\n",
    "\n",
    "\n",
    "* Create a summary data frame to hold the results\n",
    "\n",
    "\n",
    "* Optional: round the percentage column to two decimal points\n",
    "\n",
    "\n",
    "* Display Age Demographics Table\n"
   ]
  },
  {
   "cell_type": "code",
   "execution_count": 29,
   "metadata": {},
   "outputs": [
    {
     "data": {
      "text/html": [
       "<style  type=\"text/css\" >\n",
       "</style><table id=\"T_09f13dae_5c04_11ea_9b7f_00d86178e0cb\" ><thead>    <tr>        <th class=\"blank level0\" ></th>        <th class=\"col_heading level0 col0\" >Percentage of Players</th>        <th class=\"col_heading level0 col1\" >Total Count</th>    </tr>    <tr>        <th class=\"index_name level0\" >Age Group</th>        <th class=\"blank\" ></th>        <th class=\"blank\" ></th>    </tr></thead><tbody>\n",
       "                <tr>\n",
       "                        <th id=\"T_09f13dae_5c04_11ea_9b7f_00d86178e0cblevel0_row0\" class=\"row_heading level0 row0\" ><10</th>\n",
       "                        <td id=\"T_09f13dae_5c04_11ea_9b7f_00d86178e0cbrow0_col0\" class=\"data row0 col0\" >2.95%</td>\n",
       "                        <td id=\"T_09f13dae_5c04_11ea_9b7f_00d86178e0cbrow0_col1\" class=\"data row0 col1\" >17</td>\n",
       "            </tr>\n",
       "            <tr>\n",
       "                        <th id=\"T_09f13dae_5c04_11ea_9b7f_00d86178e0cblevel0_row1\" class=\"row_heading level0 row1\" >10-14</th>\n",
       "                        <td id=\"T_09f13dae_5c04_11ea_9b7f_00d86178e0cbrow1_col0\" class=\"data row1 col0\" >3.82%</td>\n",
       "                        <td id=\"T_09f13dae_5c04_11ea_9b7f_00d86178e0cbrow1_col1\" class=\"data row1 col1\" >22</td>\n",
       "            </tr>\n",
       "            <tr>\n",
       "                        <th id=\"T_09f13dae_5c04_11ea_9b7f_00d86178e0cblevel0_row2\" class=\"row_heading level0 row2\" >15-19</th>\n",
       "                        <td id=\"T_09f13dae_5c04_11ea_9b7f_00d86178e0cbrow2_col0\" class=\"data row2 col0\" >18.58%</td>\n",
       "                        <td id=\"T_09f13dae_5c04_11ea_9b7f_00d86178e0cbrow2_col1\" class=\"data row2 col1\" >107</td>\n",
       "            </tr>\n",
       "            <tr>\n",
       "                        <th id=\"T_09f13dae_5c04_11ea_9b7f_00d86178e0cblevel0_row3\" class=\"row_heading level0 row3\" >20-24</th>\n",
       "                        <td id=\"T_09f13dae_5c04_11ea_9b7f_00d86178e0cbrow3_col0\" class=\"data row3 col0\" >44.79%</td>\n",
       "                        <td id=\"T_09f13dae_5c04_11ea_9b7f_00d86178e0cbrow3_col1\" class=\"data row3 col1\" >258</td>\n",
       "            </tr>\n",
       "            <tr>\n",
       "                        <th id=\"T_09f13dae_5c04_11ea_9b7f_00d86178e0cblevel0_row4\" class=\"row_heading level0 row4\" >25-29</th>\n",
       "                        <td id=\"T_09f13dae_5c04_11ea_9b7f_00d86178e0cbrow4_col0\" class=\"data row4 col0\" >13.37%</td>\n",
       "                        <td id=\"T_09f13dae_5c04_11ea_9b7f_00d86178e0cbrow4_col1\" class=\"data row4 col1\" >77</td>\n",
       "            </tr>\n",
       "            <tr>\n",
       "                        <th id=\"T_09f13dae_5c04_11ea_9b7f_00d86178e0cblevel0_row5\" class=\"row_heading level0 row5\" >30-34</th>\n",
       "                        <td id=\"T_09f13dae_5c04_11ea_9b7f_00d86178e0cbrow5_col0\" class=\"data row5 col0\" >9.03%</td>\n",
       "                        <td id=\"T_09f13dae_5c04_11ea_9b7f_00d86178e0cbrow5_col1\" class=\"data row5 col1\" >52</td>\n",
       "            </tr>\n",
       "            <tr>\n",
       "                        <th id=\"T_09f13dae_5c04_11ea_9b7f_00d86178e0cblevel0_row6\" class=\"row_heading level0 row6\" >35-39</th>\n",
       "                        <td id=\"T_09f13dae_5c04_11ea_9b7f_00d86178e0cbrow6_col0\" class=\"data row6 col0\" >5.38%</td>\n",
       "                        <td id=\"T_09f13dae_5c04_11ea_9b7f_00d86178e0cbrow6_col1\" class=\"data row6 col1\" >31</td>\n",
       "            </tr>\n",
       "            <tr>\n",
       "                        <th id=\"T_09f13dae_5c04_11ea_9b7f_00d86178e0cblevel0_row7\" class=\"row_heading level0 row7\" >40+</th>\n",
       "                        <td id=\"T_09f13dae_5c04_11ea_9b7f_00d86178e0cbrow7_col0\" class=\"data row7 col0\" >2.08%</td>\n",
       "                        <td id=\"T_09f13dae_5c04_11ea_9b7f_00d86178e0cbrow7_col1\" class=\"data row7 col1\" >12</td>\n",
       "            </tr>\n",
       "    </tbody></table>"
      ],
      "text/plain": [
       "<pandas.io.formats.style.Styler at 0x225126a8ec8>"
      ]
     },
     "execution_count": 29,
     "metadata": {},
     "output_type": "execute_result"
    }
   ],
   "source": [
    "bins = [-1,9,14,19,24,29,34,39,1000000]\n",
    "grp_names = ['<10','10-14','15-19','20-24','25-29','30-34','35-39','40+']\n",
    "pd_df[\"Age Group\"]= pd.cut(pd_df['Age'], bins, labels = grp_names)\n",
    "\n",
    "grpby_agegrp = pd_df.groupby(['Age Group'])\n",
    "total_count_age = grpby_agegrp[\"SN\"].nunique()\n",
    "percentage_by_age = (total_count_age/pd_count) \n",
    "age_demo_df = pd.DataFrame({\"Percentage of Players\": percentage_by_age, \"Total Count\": total_count_age})\n",
    "\n",
    "#age_demo_df = pd.DataFrame(grpby_agegrp)\n",
    "#age_demo_df[\"Percentage of Players\"] = age_demo_df[\"Purchase ID\"]/pd_count\n",
    "#age_demo_df=age_demo_df.rename(columns ={'Purchase ID':'Total Count'})\n",
    "age_demo_df=age_demo_df.style.format({'Percentage of Players': '{:.2%}'})\n",
    "\n",
    "age_demo_df"
   ]
  },
  {
   "cell_type": "markdown",
   "metadata": {},
   "source": [
    "## Purchasing Analysis (Age)"
   ]
  },
  {
   "cell_type": "markdown",
   "metadata": {},
   "source": [
    "* Bin the purchase_data data frame by age\n",
    "\n",
    "\n",
    "* Run basic calculations to obtain purchase count, avg. purchase price, avg. purchase total per person etc. in the table below\n",
    "\n",
    "\n",
    "* Create a summary data frame to hold the results\n",
    "\n",
    "\n",
    "* Optional: give the displayed data cleaner formatting\n",
    "\n",
    "\n",
    "* Display the summary data frame"
   ]
  },
  {
   "cell_type": "code",
   "execution_count": 49,
   "metadata": {},
   "outputs": [
    {
     "data": {
      "text/html": [
       "<style  type=\"text/css\" >\n",
       "</style><table id=\"T_f39d6d3e_5c06_11ea_a189_00d86178e0cb\" ><thead>    <tr>        <th class=\"blank level0\" ></th>        <th class=\"col_heading level0 col0\" >Purchase Count</th>        <th class=\"col_heading level0 col1\" >Average Purchase Price</th>        <th class=\"col_heading level0 col2\" >Total Purchase Value</th>        <th class=\"col_heading level0 col3\" >Avg Total Purchase per Person</th>    </tr>    <tr>        <th class=\"index_name level0\" >Age Group</th>        <th class=\"blank\" ></th>        <th class=\"blank\" ></th>        <th class=\"blank\" ></th>        <th class=\"blank\" ></th>    </tr></thead><tbody>\n",
       "                <tr>\n",
       "                        <th id=\"T_f39d6d3e_5c06_11ea_a189_00d86178e0cblevel0_row0\" class=\"row_heading level0 row0\" ><10</th>\n",
       "                        <td id=\"T_f39d6d3e_5c06_11ea_a189_00d86178e0cbrow0_col0\" class=\"data row0 col0\" >23</td>\n",
       "                        <td id=\"T_f39d6d3e_5c06_11ea_a189_00d86178e0cbrow0_col1\" class=\"data row0 col1\" >$3.35</td>\n",
       "                        <td id=\"T_f39d6d3e_5c06_11ea_a189_00d86178e0cbrow0_col2\" class=\"data row0 col2\" >$77.13</td>\n",
       "                        <td id=\"T_f39d6d3e_5c06_11ea_a189_00d86178e0cbrow0_col3\" class=\"data row0 col3\" >$4.54</td>\n",
       "            </tr>\n",
       "            <tr>\n",
       "                        <th id=\"T_f39d6d3e_5c06_11ea_a189_00d86178e0cblevel0_row1\" class=\"row_heading level0 row1\" >10-14</th>\n",
       "                        <td id=\"T_f39d6d3e_5c06_11ea_a189_00d86178e0cbrow1_col0\" class=\"data row1 col0\" >28</td>\n",
       "                        <td id=\"T_f39d6d3e_5c06_11ea_a189_00d86178e0cbrow1_col1\" class=\"data row1 col1\" >$2.96</td>\n",
       "                        <td id=\"T_f39d6d3e_5c06_11ea_a189_00d86178e0cbrow1_col2\" class=\"data row1 col2\" >$82.78</td>\n",
       "                        <td id=\"T_f39d6d3e_5c06_11ea_a189_00d86178e0cbrow1_col3\" class=\"data row1 col3\" >$3.76</td>\n",
       "            </tr>\n",
       "            <tr>\n",
       "                        <th id=\"T_f39d6d3e_5c06_11ea_a189_00d86178e0cblevel0_row2\" class=\"row_heading level0 row2\" >15-19</th>\n",
       "                        <td id=\"T_f39d6d3e_5c06_11ea_a189_00d86178e0cbrow2_col0\" class=\"data row2 col0\" >136</td>\n",
       "                        <td id=\"T_f39d6d3e_5c06_11ea_a189_00d86178e0cbrow2_col1\" class=\"data row2 col1\" >$3.04</td>\n",
       "                        <td id=\"T_f39d6d3e_5c06_11ea_a189_00d86178e0cbrow2_col2\" class=\"data row2 col2\" >$412.89</td>\n",
       "                        <td id=\"T_f39d6d3e_5c06_11ea_a189_00d86178e0cbrow2_col3\" class=\"data row2 col3\" >$3.86</td>\n",
       "            </tr>\n",
       "            <tr>\n",
       "                        <th id=\"T_f39d6d3e_5c06_11ea_a189_00d86178e0cblevel0_row3\" class=\"row_heading level0 row3\" >20-24</th>\n",
       "                        <td id=\"T_f39d6d3e_5c06_11ea_a189_00d86178e0cbrow3_col0\" class=\"data row3 col0\" >365</td>\n",
       "                        <td id=\"T_f39d6d3e_5c06_11ea_a189_00d86178e0cbrow3_col1\" class=\"data row3 col1\" >$3.05</td>\n",
       "                        <td id=\"T_f39d6d3e_5c06_11ea_a189_00d86178e0cbrow3_col2\" class=\"data row3 col2\" >$1,114.06</td>\n",
       "                        <td id=\"T_f39d6d3e_5c06_11ea_a189_00d86178e0cbrow3_col3\" class=\"data row3 col3\" >$4.32</td>\n",
       "            </tr>\n",
       "            <tr>\n",
       "                        <th id=\"T_f39d6d3e_5c06_11ea_a189_00d86178e0cblevel0_row4\" class=\"row_heading level0 row4\" >25-29</th>\n",
       "                        <td id=\"T_f39d6d3e_5c06_11ea_a189_00d86178e0cbrow4_col0\" class=\"data row4 col0\" >101</td>\n",
       "                        <td id=\"T_f39d6d3e_5c06_11ea_a189_00d86178e0cbrow4_col1\" class=\"data row4 col1\" >$2.90</td>\n",
       "                        <td id=\"T_f39d6d3e_5c06_11ea_a189_00d86178e0cbrow4_col2\" class=\"data row4 col2\" >$293.00</td>\n",
       "                        <td id=\"T_f39d6d3e_5c06_11ea_a189_00d86178e0cbrow4_col3\" class=\"data row4 col3\" >$3.81</td>\n",
       "            </tr>\n",
       "            <tr>\n",
       "                        <th id=\"T_f39d6d3e_5c06_11ea_a189_00d86178e0cblevel0_row5\" class=\"row_heading level0 row5\" >30-34</th>\n",
       "                        <td id=\"T_f39d6d3e_5c06_11ea_a189_00d86178e0cbrow5_col0\" class=\"data row5 col0\" >73</td>\n",
       "                        <td id=\"T_f39d6d3e_5c06_11ea_a189_00d86178e0cbrow5_col1\" class=\"data row5 col1\" >$2.93</td>\n",
       "                        <td id=\"T_f39d6d3e_5c06_11ea_a189_00d86178e0cbrow5_col2\" class=\"data row5 col2\" >$214.00</td>\n",
       "                        <td id=\"T_f39d6d3e_5c06_11ea_a189_00d86178e0cbrow5_col3\" class=\"data row5 col3\" >$4.12</td>\n",
       "            </tr>\n",
       "            <tr>\n",
       "                        <th id=\"T_f39d6d3e_5c06_11ea_a189_00d86178e0cblevel0_row6\" class=\"row_heading level0 row6\" >35-39</th>\n",
       "                        <td id=\"T_f39d6d3e_5c06_11ea_a189_00d86178e0cbrow6_col0\" class=\"data row6 col0\" >41</td>\n",
       "                        <td id=\"T_f39d6d3e_5c06_11ea_a189_00d86178e0cbrow6_col1\" class=\"data row6 col1\" >$3.60</td>\n",
       "                        <td id=\"T_f39d6d3e_5c06_11ea_a189_00d86178e0cbrow6_col2\" class=\"data row6 col2\" >$147.67</td>\n",
       "                        <td id=\"T_f39d6d3e_5c06_11ea_a189_00d86178e0cbrow6_col3\" class=\"data row6 col3\" >$4.76</td>\n",
       "            </tr>\n",
       "            <tr>\n",
       "                        <th id=\"T_f39d6d3e_5c06_11ea_a189_00d86178e0cblevel0_row7\" class=\"row_heading level0 row7\" >40+</th>\n",
       "                        <td id=\"T_f39d6d3e_5c06_11ea_a189_00d86178e0cbrow7_col0\" class=\"data row7 col0\" >13</td>\n",
       "                        <td id=\"T_f39d6d3e_5c06_11ea_a189_00d86178e0cbrow7_col1\" class=\"data row7 col1\" >$2.94</td>\n",
       "                        <td id=\"T_f39d6d3e_5c06_11ea_a189_00d86178e0cbrow7_col2\" class=\"data row7 col2\" >$38.24</td>\n",
       "                        <td id=\"T_f39d6d3e_5c06_11ea_a189_00d86178e0cbrow7_col3\" class=\"data row7 col3\" >$3.19</td>\n",
       "            </tr>\n",
       "    </tbody></table>"
      ],
      "text/plain": [
       "<pandas.io.formats.style.Styler at 0x22512a522c8>"
      ]
     },
     "execution_count": 49,
     "metadata": {},
     "output_type": "execute_result"
    }
   ],
   "source": [
    "\n",
    "Average_Price = grpby_agegrp['Price'].mean()\n",
    "purch_count= grpby_agegrp['Purchase ID'].count()\n",
    "tot_purchase = grpby_agegrp['Price'].sum()\n",
    "count_age = grpby_agegrp.nunique()[\"SN\"]\n",
    "Average_Price_Per_Person= tot_purchase/count_age\n",
    "purch_analysis_df = pd.DataFrame({\"Purchase Count\":purch_count,\n",
    "                                  \"Average Purchase Price\": Average_Price,\n",
    "                                  \"Total Purchase Value\":tot_purchase,\n",
    "                                  \"Avg Total Purchase per Person\":Average_Price_Per_Person})\n",
    "purch_analysis_df =purch_analysis_df.style.format({'Average Purchase Price': '${:,.2f}',\n",
    "                                                  'Total Purchase Value': '${:,.2f}',\n",
    "                                                  'Avg Total Purchase per Person': '${:,.2f}'  \n",
    "                                                  })\n",
    "\n",
    "purch_analysis_df \n"
   ]
  },
  {
   "cell_type": "markdown",
   "metadata": {},
   "source": [
    "## Top Spenders"
   ]
  },
  {
   "cell_type": "markdown",
   "metadata": {},
   "source": [
    "* Run basic calculations to obtain the results in the table below\n",
    "\n",
    "\n",
    "* Create a summary data frame to hold the results\n",
    "\n",
    "\n",
    "* Sort the total purchase value column in descending order\n",
    "\n",
    "\n",
    "* Optional: give the displayed data cleaner formatting\n",
    "\n",
    "\n",
    "* Display a preview of the summary data frame\n",
    "\n"
   ]
  },
  {
   "cell_type": "code",
   "execution_count": 70,
   "metadata": {},
   "outputs": [
    {
     "data": {
      "text/html": [
       "<div>\n",
       "<style scoped>\n",
       "    .dataframe tbody tr th:only-of-type {\n",
       "        vertical-align: middle;\n",
       "    }\n",
       "\n",
       "    .dataframe tbody tr th {\n",
       "        vertical-align: top;\n",
       "    }\n",
       "\n",
       "    .dataframe thead th {\n",
       "        text-align: right;\n",
       "    }\n",
       "</style>\n",
       "<table border=\"1\" class=\"dataframe\">\n",
       "  <thead>\n",
       "    <tr style=\"text-align: right;\">\n",
       "      <th></th>\n",
       "      <th>Purchase Count</th>\n",
       "      <th>Average Purchase Price</th>\n",
       "      <th>Total Purchase Value</th>\n",
       "    </tr>\n",
       "    <tr>\n",
       "      <th>SN</th>\n",
       "      <th></th>\n",
       "      <th></th>\n",
       "      <th></th>\n",
       "    </tr>\n",
       "  </thead>\n",
       "  <tbody>\n",
       "    <tr>\n",
       "      <td>Lisosia93</td>\n",
       "      <td>5</td>\n",
       "      <td>$3.79</td>\n",
       "      <td>$18.96</td>\n",
       "    </tr>\n",
       "    <tr>\n",
       "      <td>Idastidru52</td>\n",
       "      <td>4</td>\n",
       "      <td>$3.86</td>\n",
       "      <td>$15.45</td>\n",
       "    </tr>\n",
       "    <tr>\n",
       "      <td>Chamjask73</td>\n",
       "      <td>3</td>\n",
       "      <td>$4.61</td>\n",
       "      <td>$13.83</td>\n",
       "    </tr>\n",
       "    <tr>\n",
       "      <td>Iral74</td>\n",
       "      <td>4</td>\n",
       "      <td>$3.40</td>\n",
       "      <td>$13.62</td>\n",
       "    </tr>\n",
       "    <tr>\n",
       "      <td>Iskadarya95</td>\n",
       "      <td>3</td>\n",
       "      <td>$4.37</td>\n",
       "      <td>$13.10</td>\n",
       "    </tr>\n",
       "  </tbody>\n",
       "</table>\n",
       "</div>"
      ],
      "text/plain": [
       "             Purchase Count Average Purchase Price Total Purchase Value\n",
       "SN                                                                     \n",
       "Lisosia93                 5                  $3.79               $18.96\n",
       "Idastidru52               4                  $3.86               $15.45\n",
       "Chamjask73                3                  $4.61               $13.83\n",
       "Iral74                    4                  $3.40               $13.62\n",
       "Iskadarya95               3                  $4.37               $13.10"
      ]
     },
     "execution_count": 70,
     "metadata": {},
     "output_type": "execute_result"
    }
   ],
   "source": [
    "grpby_SN = pd_df.groupby(['SN'])\n",
    "purch_count = grpby_SN['Purchase ID'].count()\n",
    "Average_Price = grpby_SN['Price'].mean()\n",
    "tot_price = grpby_SN['Price'].sum()\n",
    "grpby_SN_df = pd.DataFrame({\"Purchase Count\":purch_count,\n",
    "                                  \"Average Purchase Price\": Average_Price,\n",
    "                                  \"Total Purchase Value\":tot_price,\n",
    "                                  })\n",
    "grpby_SN_df=grpby_SN_df.sort_values(by=['Total Purchase Value'],ascending=False)\n",
    "grpby_SN_df[\"Average Purchase Price\"] = grpby_SN_df[\"Average Purchase Price\"].map('${:,.2f}'.format)\n",
    "grpby_SN_df[\"Total Purchase Value\"] = grpby_SN_df[\"Total Purchase Value\"].map('${:,.2f}'.format)\n",
    "grpby_SN_df.head()"
   ]
  },
  {
   "cell_type": "markdown",
   "metadata": {},
   "source": [
    "## Most Popular Items"
   ]
  },
  {
   "cell_type": "markdown",
   "metadata": {},
   "source": [
    "* Retrieve the Item ID, Item Name, and Item Price columns\n",
    "\n",
    "\n",
    "* Group by Item ID and Item Name. Perform calculations to obtain purchase count, item price, and total purchase value\n",
    "\n",
    "\n",
    "* Create a summary data frame to hold the results\n",
    "\n",
    "\n",
    "* Sort the purchase count column in descending order\n",
    "\n",
    "\n",
    "* Optional: give the displayed data cleaner formatting\n",
    "\n",
    "\n",
    "* Display a preview of the summary data frame\n",
    "\n"
   ]
  },
  {
   "cell_type": "code",
   "execution_count": 144,
   "metadata": {},
   "outputs": [
    {
     "data": {
      "text/html": [
       "<div>\n",
       "<style scoped>\n",
       "    .dataframe tbody tr th:only-of-type {\n",
       "        vertical-align: middle;\n",
       "    }\n",
       "\n",
       "    .dataframe tbody tr th {\n",
       "        vertical-align: top;\n",
       "    }\n",
       "\n",
       "    .dataframe thead th {\n",
       "        text-align: right;\n",
       "    }\n",
       "</style>\n",
       "<table border=\"1\" class=\"dataframe\">\n",
       "  <thead>\n",
       "    <tr style=\"text-align: right;\">\n",
       "      <th></th>\n",
       "      <th></th>\n",
       "      <th>Purchase Count</th>\n",
       "      <th>Item Price</th>\n",
       "      <th>Total Purchase Value</th>\n",
       "    </tr>\n",
       "    <tr>\n",
       "      <th>Item ID</th>\n",
       "      <th>Item Name</th>\n",
       "      <th></th>\n",
       "      <th></th>\n",
       "      <th></th>\n",
       "    </tr>\n",
       "  </thead>\n",
       "  <tbody>\n",
       "    <tr>\n",
       "      <td>178</td>\n",
       "      <td>Oathbreaker, Last Hope of the Breaking Storm</td>\n",
       "      <td>12</td>\n",
       "      <td>$4.17</td>\n",
       "      <td>50</td>\n",
       "    </tr>\n",
       "    <tr>\n",
       "      <td>145</td>\n",
       "      <td>Fiery Glass Crusader</td>\n",
       "      <td>9</td>\n",
       "      <td>$4.56</td>\n",
       "      <td>41</td>\n",
       "    </tr>\n",
       "    <tr>\n",
       "      <td>108</td>\n",
       "      <td>Extraction, Quickblade Of Trembling Hands</td>\n",
       "      <td>9</td>\n",
       "      <td>$3.44</td>\n",
       "      <td>31</td>\n",
       "    </tr>\n",
       "    <tr>\n",
       "      <td>82</td>\n",
       "      <td>Nirvana</td>\n",
       "      <td>9</td>\n",
       "      <td>$4.89</td>\n",
       "      <td>44</td>\n",
       "    </tr>\n",
       "    <tr>\n",
       "      <td>19</td>\n",
       "      <td>Pursuit, Cudgel of Necromancy</td>\n",
       "      <td>8</td>\n",
       "      <td>$1.00</td>\n",
       "      <td>8</td>\n",
       "    </tr>\n",
       "  </tbody>\n",
       "</table>\n",
       "</div>"
      ],
      "text/plain": [
       "                                                      Purchase Count  \\\n",
       "Item ID Item Name                                                      \n",
       "178     Oathbreaker, Last Hope of the Breaking Storm              12   \n",
       "145     Fiery Glass Crusader                                       9   \n",
       "108     Extraction, Quickblade Of Trembling Hands                  9   \n",
       "82      Nirvana                                                    9   \n",
       "19      Pursuit, Cudgel of Necromancy                              8   \n",
       "\n",
       "                                                     Item Price  \\\n",
       "Item ID Item Name                                                 \n",
       "178     Oathbreaker, Last Hope of the Breaking Storm      $4.17   \n",
       "145     Fiery Glass Crusader                              $4.56   \n",
       "108     Extraction, Quickblade Of Trembling Hands         $3.44   \n",
       "82      Nirvana                                           $4.89   \n",
       "19      Pursuit, Cudgel of Necromancy                     $1.00   \n",
       "\n",
       "                                                      Total Purchase Value  \n",
       "Item ID Item Name                                                           \n",
       "178     Oathbreaker, Last Hope of the Breaking Storm                    50  \n",
       "145     Fiery Glass Crusader                                            41  \n",
       "108     Extraction, Quickblade Of Trembling Hands                       31  \n",
       "82      Nirvana                                                         44  \n",
       "19      Pursuit, Cudgel of Necromancy                                    8  "
      ]
     },
     "execution_count": 144,
     "metadata": {},
     "output_type": "execute_result"
    }
   ],
   "source": [
    "#new = old.drop('B', axis=1)\n",
    "#price_df=pd_df.filter([\"Item ID\",\"Price\",\"Item Name\"],axis=1)\n",
    "#price_df.set_index(\"Item ID\")\n",
    "grpby_items = pd_df.groupby(['Item ID','Item Name'])\n",
    "purch_count = grpby_items['Purchase ID'].count()\n",
    "tot_price = grpby_items['Price'].sum()\n",
    "tot_price = tot_price.astype('int')\n",
    "purch_price=tot_price/purch_count\n",
    "grpby_items_df = pd.DataFrame({\"Purchase Count\":purch_count,\"Item Price\":purch_price,\"Total Purchase Value\":tot_price,})\n",
    "\n",
    "grpby_items_df=grpby_items_df.sort_values(by=['Purchase Count'],ascending=False)\n",
    "grpby_items_df[\"Item Price\"] = grpby_items_df[\"Item Price\"].map('${:,.2f}'.format)\n",
    "#grpby_items_df[\"Total Purchase Value\"] = grpby_items_df[\"Total Purchase Value\"].map('${:,.2f}'.format)\n",
    "#grpby_items_df =grpby_items_df.style.format({'Total Purchase Value': '${:,.2f}'})\n",
    "grpby_items_df.head()\n"
   ]
  },
  {
   "cell_type": "markdown",
   "metadata": {},
   "source": [
    "## Most Profitable Items"
   ]
  },
  {
   "cell_type": "markdown",
   "metadata": {},
   "source": [
    "* Sort the above table by total purchase value in descending order\n",
    "\n",
    "\n",
    "* Optional: give the displayed data cleaner formatting\n",
    "\n",
    "\n",
    "* Display a preview of the data frame\n",
    "\n"
   ]
  },
  {
   "cell_type": "code",
   "execution_count": 149,
   "metadata": {
    "scrolled": true
   },
   "outputs": [
    {
     "data": {
      "text/html": [
       "<div>\n",
       "<style scoped>\n",
       "    .dataframe tbody tr th:only-of-type {\n",
       "        vertical-align: middle;\n",
       "    }\n",
       "\n",
       "    .dataframe tbody tr th {\n",
       "        vertical-align: top;\n",
       "    }\n",
       "\n",
       "    .dataframe thead th {\n",
       "        text-align: right;\n",
       "    }\n",
       "</style>\n",
       "<table border=\"1\" class=\"dataframe\">\n",
       "  <thead>\n",
       "    <tr style=\"text-align: right;\">\n",
       "      <th></th>\n",
       "      <th></th>\n",
       "      <th>Purchase Count</th>\n",
       "      <th>Item Price</th>\n",
       "      <th>Total Purchase Value</th>\n",
       "    </tr>\n",
       "    <tr>\n",
       "      <th>Item ID</th>\n",
       "      <th>Item Name</th>\n",
       "      <th></th>\n",
       "      <th></th>\n",
       "      <th></th>\n",
       "    </tr>\n",
       "  </thead>\n",
       "  <tbody>\n",
       "    <tr>\n",
       "      <td>178</td>\n",
       "      <td>Oathbreaker, Last Hope of the Breaking Storm</td>\n",
       "      <td>12</td>\n",
       "      <td>$4.17</td>\n",
       "      <td>50</td>\n",
       "    </tr>\n",
       "    <tr>\n",
       "      <td>82</td>\n",
       "      <td>Nirvana</td>\n",
       "      <td>9</td>\n",
       "      <td>$4.89</td>\n",
       "      <td>44</td>\n",
       "    </tr>\n",
       "    <tr>\n",
       "      <td>145</td>\n",
       "      <td>Fiery Glass Crusader</td>\n",
       "      <td>9</td>\n",
       "      <td>$4.56</td>\n",
       "      <td>41</td>\n",
       "    </tr>\n",
       "    <tr>\n",
       "      <td>92</td>\n",
       "      <td>Final Critic</td>\n",
       "      <td>8</td>\n",
       "      <td>$4.88</td>\n",
       "      <td>39</td>\n",
       "    </tr>\n",
       "    <tr>\n",
       "      <td>103</td>\n",
       "      <td>Singed Scalpel</td>\n",
       "      <td>8</td>\n",
       "      <td>$4.25</td>\n",
       "      <td>34</td>\n",
       "    </tr>\n",
       "  </tbody>\n",
       "</table>\n",
       "</div>"
      ],
      "text/plain": [
       "                                                      Purchase Count  \\\n",
       "Item ID Item Name                                                      \n",
       "178     Oathbreaker, Last Hope of the Breaking Storm              12   \n",
       "82      Nirvana                                                    9   \n",
       "145     Fiery Glass Crusader                                       9   \n",
       "92      Final Critic                                               8   \n",
       "103     Singed Scalpel                                             8   \n",
       "\n",
       "                                                     Item Price  \\\n",
       "Item ID Item Name                                                 \n",
       "178     Oathbreaker, Last Hope of the Breaking Storm      $4.17   \n",
       "82      Nirvana                                           $4.89   \n",
       "145     Fiery Glass Crusader                              $4.56   \n",
       "92      Final Critic                                      $4.88   \n",
       "103     Singed Scalpel                                    $4.25   \n",
       "\n",
       "                                                      Total Purchase Value  \n",
       "Item ID Item Name                                                           \n",
       "178     Oathbreaker, Last Hope of the Breaking Storm                    50  \n",
       "82      Nirvana                                                         44  \n",
       "145     Fiery Glass Crusader                                            41  \n",
       "92      Final Critic                                                    39  \n",
       "103     Singed Scalpel                                                  34  "
      ]
     },
     "execution_count": 149,
     "metadata": {},
     "output_type": "execute_result"
    }
   ],
   "source": [
    "\n",
    "most_prof_df=grpby_items_df.sort_values(['Total Purchase Value'],ascending=False)\n",
    "\n",
    "most_prof_df.head()\n"
   ]
  },
  {
   "cell_type": "code",
   "execution_count": null,
   "metadata": {},
   "outputs": [],
   "source": []
  }
 ],
 "metadata": {
  "anaconda-cloud": {},
  "kernel_info": {
   "name": "python3"
  },
  "kernelspec": {
   "display_name": "Python 3",
   "language": "python",
   "name": "python3"
  },
  "language_info": {
   "codemirror_mode": {
    "name": "ipython",
    "version": 3
   },
   "file_extension": ".py",
   "mimetype": "text/x-python",
   "name": "python",
   "nbconvert_exporter": "python",
   "pygments_lexer": "ipython3",
   "version": "3.7.4"
  },
  "latex_envs": {
   "LaTeX_envs_menu_present": true,
   "autoclose": false,
   "autocomplete": true,
   "bibliofile": "biblio.bib",
   "cite_by": "apalike",
   "current_citInitial": 1,
   "eqLabelWithNumbers": true,
   "eqNumInitial": 1,
   "hotkeys": {
    "equation": "Ctrl-E",
    "itemize": "Ctrl-I"
   },
   "labels_anchors": false,
   "latex_user_defs": false,
   "report_style_numbering": false,
   "user_envs_cfg": false
  },
  "nteract": {
   "version": "0.2.0"
  }
 },
 "nbformat": 4,
 "nbformat_minor": 2
}
